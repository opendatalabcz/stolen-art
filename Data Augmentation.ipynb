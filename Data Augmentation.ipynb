{
 "cells": [
  {
   "cell_type": "code",
   "execution_count": null,
   "metadata": {},
   "outputs": [],
   "source": [
    "import os\n",
    "import PIL\n",
    "import PIL.Image\n",
    "import pathlib\n",
    "import cv2\n",
    "import matplotlib.pyplot as plt\n",
    "import numpy as np\n",
    "%matplotlib inline\n",
    "\n",
    "import keras\n",
    "from keras.preprocessing.image import ImageDataGenerator, array_to_img, img_to_array, load_img\n"
   ]
  },
  {
   "cell_type": "code",
   "execution_count": null,
   "metadata": {},
   "outputs": [],
   "source": [
    "# funkce zmensi obrazky na scale % sve puvodni velikosti\n",
    "def downscale_pics(pics, scale=30):\n",
    "    resized = []\n",
    "    for img in pics:\n",
    "         \n",
    "        width = int(img.shape[1] * scale / 100)\n",
    "        height = int(img.shape[0] * scale / 100)\n",
    "        dim = (width, height)\n",
    "\n",
    "        resized.append(cv2.resize(img, dim, interpolation = cv2.INTER_AREA))\n",
    "    \n",
    "    return resized\n"
   ]
  },
  {
   "cell_type": "code",
   "execution_count": null,
   "metadata": {},
   "outputs": [],
   "source": [
    "def bgr_to_rgb(images):\n",
    "    return [cv2.cvtColor(i, cv2.COLOR_BGR2RGB) for i in images ]"
   ]
  },
  {
   "cell_type": "code",
   "execution_count": null,
   "metadata": {},
   "outputs": [],
   "source": [
    "# nacte obrazky\n",
    "def load_and_preprocess(path):\n",
    "    \n",
    "    # adresar s obrazy\n",
    "    data_dir = pathlib.Path(path)\n",
    "\n",
    "    # zobrazeni poctu obrazu v adresari\n",
    "    image_count = len(list(data_dir.glob('*')))\n",
    "    print(f\"Celkem obrazů v adresáři {path}: {image_count}\")\n",
    "\n",
    "\n",
    "    paintings_path = list(data_dir.glob('*'))\n",
    "    paintings_path = [str(path) for path in paintings_path]\n",
    "    \n",
    "    # ted pracuji pouze s sedymi obrazy\n",
    "    paintings = [cv2.imread(painting_path) for painting_path in paintings_path]\n",
    "    paintings = bgr_to_rgb(paintings)\n",
    "    \n",
    "    # Zmenseni obrazku ma na mem datasetu velmi pozitivni vliv!\n",
    "    paintings = downscale_pics(paintings, scale=10)\n",
    "    \n",
    "    return paintings\n"
   ]
  },
  {
   "cell_type": "code",
   "execution_count": null,
   "metadata": {},
   "outputs": [],
   "source": [
    "stolen_art_dir_path = \"./mydata-stolen/\"\n",
    "paintings = load_and_preprocess(stolen_art_dir_path)\n",
    "paintings2 = paintings.copy()"
   ]
  },
  {
   "cell_type": "markdown",
   "metadata": {},
   "source": [
    "# Data Augmentation"
   ]
  },
  {
   "cell_type": "markdown",
   "metadata": {},
   "source": [
    "## Imgaug"
   ]
  },
  {
   "cell_type": "code",
   "execution_count": null,
   "metadata": {},
   "outputs": [],
   "source": [
    "import numpy as np\n",
    "import imgaug as ia\n",
    "import imgaug.augmenters as iaa"
   ]
  },
  {
   "cell_type": "code",
   "execution_count": null,
   "metadata": {},
   "outputs": [],
   "source": [
    "\n",
    "seq = iaa.Sequential([\n",
    "    iaa.Crop(px=(0, 16)), # crop images from each side by 0 to 16px (randomly chosen)\n",
    "    iaa.Fliplr(0.5), # horizontally flip 50% of the images\n",
    "    iaa.GaussianBlur(sigma=(0, 3.0)) # blur images with a sigma of 0 to 3.0\n",
    "])\n",
    "\n",
    "\n",
    "\n",
    "for p in paintings:\n",
    "    f, axarr = plt.subplots(1,2,figsize=(15,15))\n",
    "    axarr[0].imshow(p)\n",
    "    augmented = seq.augment_image(image=p)\n",
    "    axarr[1].imshow(augmented)\n"
   ]
  },
  {
   "cell_type": "markdown",
   "metadata": {},
   "source": [
    "## Keras"
   ]
  },
  {
   "cell_type": "code",
   "execution_count": null,
   "metadata": {},
   "outputs": [],
   "source": [
    "paintings = paintings2"
   ]
  },
  {
   "cell_type": "code",
   "execution_count": null,
   "metadata": {},
   "outputs": [],
   "source": [
    "datagen = ImageDataGenerator()\n",
    "gen = datagen.flow_from_directory(\n",
    "    directory=stolen_art_dir_path,\n",
    "    target_size=(256, 256),\n",
    "    color_mode=\"rgb\",\n",
    "    classes=None,\n",
    "    class_mode=\"categorical\",\n",
    "    batch_size=32,\n",
    "    shuffle=True,\n",
    "    seed=None,\n",
    "    save_to_dir=None,\n",
    "    save_prefix=\"\",\n",
    "    save_format=\"png\",\n",
    "    follow_links=False,\n",
    "    subset=None,\n",
    "    interpolation=\"nearest\",\n",
    ")"
   ]
  },
  {
   "cell_type": "code",
   "execution_count": null,
   "metadata": {},
   "outputs": [],
   "source": [
    "import keras\n",
    "from keras.preprocessing.image import ImageDataGenerator, array_to_img, img_to_array\n",
    "\n",
    "paintings = [np.array(p) for p in paintings]\n",
    "paintings = [p.reshape(p.shape + (1,)) for p in paintings]\n",
    "paintings = np.array(paintings)\n",
    "print(paintings.shape)\n",
    "\n",
    "\n",
    "\n",
    "painting0 = paintings[0]\n",
    "painting0 = painting0.reshape((1,) + painting0.shape)\n",
    "print(painting0.shape)\n",
    "\n",
    "datagen = ImageDataGenerator(rotation_range=40,\n",
    "        width_shift_range=0.2,\n",
    "        height_shift_range=0.2,\n",
    "        rescale=1./255,\n",
    "        shear_range=0.2,\n",
    "        zoom_range=0.2,\n",
    "        horizontal_flip=True,\n",
    "        fill_mode='nearest')\n"
   ]
  },
  {
   "cell_type": "code",
   "execution_count": null,
   "metadata": {},
   "outputs": [],
   "source": []
  },
  {
   "cell_type": "code",
   "execution_count": null,
   "metadata": {},
   "outputs": [],
   "source": [
    "i = 0\n",
    "for batch in datagen.flow(painting0, batch_size=1,\n",
    "                          save_to_dir='kerasaug', save_format='jpeg'):\n",
    "    i += 1\n",
    "    if i > 20:\n",
    "        break "
   ]
  },
  {
   "cell_type": "code",
   "execution_count": null,
   "metadata": {},
   "outputs": [],
   "source": []
  },
  {
   "cell_type": "code",
   "execution_count": null,
   "metadata": {},
   "outputs": [],
   "source": []
  }
 ],
 "metadata": {
  "kernelspec": {
   "display_name": "Python 3",
   "language": "python",
   "name": "python3"
  },
  "language_info": {
   "codemirror_mode": {
    "name": "ipython",
    "version": 3
   },
   "file_extension": ".py",
   "mimetype": "text/x-python",
   "name": "python",
   "nbconvert_exporter": "python",
   "pygments_lexer": "ipython3",
   "version": "3.6.9"
  }
 },
 "nbformat": 4,
 "nbformat_minor": 4
}
