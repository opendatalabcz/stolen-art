{
 "cells": [
  {
   "cell_type": "code",
   "execution_count": 33,
   "metadata": {},
   "outputs": [],
   "source": [
    "import pandas as pd\n",
    "import requests\n",
    "from pathlib import Path"
   ]
  },
  {
   "cell_type": "markdown",
   "metadata": {},
   "source": [
    "## Load csv with all the information about the arts"
   ]
  },
  {
   "cell_type": "code",
   "execution_count": 6,
   "metadata": {},
   "outputs": [
    {
     "data": {
      "text/plain": [
       "Index(['Title', 'Artist', 'ConstituentID', 'ArtistBio', 'Nationality',\n",
       "       'BeginDate', 'EndDate', 'Gender', 'Date', 'Medium', 'Dimensions',\n",
       "       'CreditLine', 'AccessionNumber', 'Classification', 'Department',\n",
       "       'DateAcquired', 'Cataloged', 'ObjectID', 'URL', 'ThumbnailURL',\n",
       "       'Circumference (cm)', 'Depth (cm)', 'Diameter (cm)', 'Height (cm)',\n",
       "       'Length (cm)', 'Weight (kg)', 'Width (cm)', 'Seat Height (cm)',\n",
       "       'Duration (sec.)'],\n",
       "      dtype='object')"
      ]
     },
     "execution_count": 6,
     "metadata": {},
     "output_type": "execute_result"
    }
   ],
   "source": [
    "artworks_csv = pd.read_csv(\"Artworks.csv\")\n",
    "artworks_csv.columns"
   ]
  },
  {
   "cell_type": "markdown",
   "metadata": {},
   "source": [
    "## Display the art categories and picking the right ones"
   ]
  },
  {
   "cell_type": "code",
   "execution_count": 8,
   "metadata": {},
   "outputs": [
    {
     "data": {
      "text/plain": [
       "array(['Architecture', 'Mies van der Rohe Archive', 'Design',\n",
       "       'Illustrated Book', 'Print', 'Drawing', 'Periodical', 'Film',\n",
       "       'Multiple', 'Installation', 'Film (object)', 'Photograph',\n",
       "       'Painting', 'Ephemera', 'Photography Research/Reference', 'Video',\n",
       "       'Media', 'Performance', 'Sculpture', 'Work on Paper', 'Poster',\n",
       "       'Audio', '(not assigned)', 'Textile', 'Digital', 'Collage',\n",
       "       'Graphic Design', 'Frank Lloyd Wright Archive',\n",
       "       'Furniture and Interiors', 'Software', 'Architectural Model',\n",
       "       'Publication'], dtype=object)"
      ]
     },
     "execution_count": 8,
     "metadata": {},
     "output_type": "execute_result"
    }
   ],
   "source": [
    "artworks_csv.Classification.unique()"
   ]
  },
  {
   "cell_type": "code",
   "execution_count": 9,
   "metadata": {},
   "outputs": [],
   "source": [
    "wanted_classification = ['Drawing', 'Painting', 'Poster']"
   ]
  },
  {
   "cell_type": "code",
   "execution_count": 12,
   "metadata": {},
   "outputs": [
    {
     "data": {
      "text/plain": [
       "array(['Drawing', 'Painting', 'Poster'], dtype=object)"
      ]
     },
     "execution_count": 12,
     "metadata": {},
     "output_type": "execute_result"
    }
   ],
   "source": [
    "artworks_filtered = artworks_csv.loc[artworks_csv.Classification.isin(wanted_classification)]\n",
    "artworks_filtered.Classification.unique()"
   ]
  },
  {
   "cell_type": "code",
   "execution_count": 42,
   "metadata": {},
   "outputs": [],
   "source": [
    "artworks_filtered = artworks_filtered[artworks_filtered.URL.notnull()]"
   ]
  },
  {
   "cell_type": "markdown",
   "metadata": {},
   "source": [
    "## Downloading the images"
   ]
  },
  {
   "cell_type": "code",
   "execution_count": 43,
   "metadata": {},
   "outputs": [
    {
     "data": {
      "text/html": [
       "<div>\n",
       "<style scoped>\n",
       "    .dataframe tbody tr th:only-of-type {\n",
       "        vertical-align: middle;\n",
       "    }\n",
       "\n",
       "    .dataframe tbody tr th {\n",
       "        vertical-align: top;\n",
       "    }\n",
       "\n",
       "    .dataframe thead th {\n",
       "        text-align: right;\n",
       "    }\n",
       "</style>\n",
       "<table border=\"1\" class=\"dataframe\">\n",
       "  <thead>\n",
       "    <tr style=\"text-align: right;\">\n",
       "      <th></th>\n",
       "      <th>Title</th>\n",
       "      <th>Artist</th>\n",
       "      <th>ConstituentID</th>\n",
       "      <th>ArtistBio</th>\n",
       "      <th>Nationality</th>\n",
       "      <th>BeginDate</th>\n",
       "      <th>EndDate</th>\n",
       "      <th>Gender</th>\n",
       "      <th>Date</th>\n",
       "      <th>Medium</th>\n",
       "      <th>...</th>\n",
       "      <th>ThumbnailURL</th>\n",
       "      <th>Circumference (cm)</th>\n",
       "      <th>Depth (cm)</th>\n",
       "      <th>Diameter (cm)</th>\n",
       "      <th>Height (cm)</th>\n",
       "      <th>Length (cm)</th>\n",
       "      <th>Weight (kg)</th>\n",
       "      <th>Width (cm)</th>\n",
       "      <th>Seat Height (cm)</th>\n",
       "      <th>Duration (sec.)</th>\n",
       "    </tr>\n",
       "  </thead>\n",
       "  <tbody>\n",
       "    <tr>\n",
       "      <th>7957</th>\n",
       "      <td>\"Society of Monkeys\" diploma</td>\n",
       "      <td>Aleksei Remizov</td>\n",
       "      <td>14185</td>\n",
       "      <td>(Russian, 1877–1957)</td>\n",
       "      <td>()</td>\n",
       "      <td>(1877)</td>\n",
       "      <td>(1957)</td>\n",
       "      <td>(Male)</td>\n",
       "      <td>1922</td>\n",
       "      <td>Watercolor, ink, cut-and-pasted colored and me...</td>\n",
       "      <td>...</td>\n",
       "      <td>http://www.moma.org/media/W1siZiIsIjI0OTM4NiJd...</td>\n",
       "      <td>NaN</td>\n",
       "      <td>NaN</td>\n",
       "      <td>NaN</td>\n",
       "      <td>23.9</td>\n",
       "      <td>NaN</td>\n",
       "      <td>NaN</td>\n",
       "      <td>31.8</td>\n",
       "      <td>NaN</td>\n",
       "      <td>NaN</td>\n",
       "    </tr>\n",
       "    <tr>\n",
       "      <th>8007</th>\n",
       "      <td>Untitled</td>\n",
       "      <td>Kirill Zdanevich</td>\n",
       "      <td>11875</td>\n",
       "      <td>(Russian, 1892–1969)</td>\n",
       "      <td>(Russian)</td>\n",
       "      <td>(1892)</td>\n",
       "      <td>(1969)</td>\n",
       "      <td>(Male)</td>\n",
       "      <td>1919</td>\n",
       "      <td>Pen and ink</td>\n",
       "      <td>...</td>\n",
       "      <td>http://www.moma.org/media/W1siZiIsIjY3ODg4Il0s...</td>\n",
       "      <td>NaN</td>\n",
       "      <td>NaN</td>\n",
       "      <td>NaN</td>\n",
       "      <td>28.4</td>\n",
       "      <td>NaN</td>\n",
       "      <td>NaN</td>\n",
       "      <td>26.6</td>\n",
       "      <td>NaN</td>\n",
       "      <td>NaN</td>\n",
       "    </tr>\n",
       "    <tr>\n",
       "      <th>8009</th>\n",
       "      <td>Valia Zdanevich</td>\n",
       "      <td>Aleksei Kruchenykh</td>\n",
       "      <td>3263</td>\n",
       "      <td>(Russian, 1886–1969)</td>\n",
       "      <td>(Russian)</td>\n",
       "      <td>(1886)</td>\n",
       "      <td>(1969)</td>\n",
       "      <td>(Male)</td>\n",
       "      <td>1923</td>\n",
       "      <td>Collage with photograph, pencil and watercolor...</td>\n",
       "      <td>...</td>\n",
       "      <td>http://www.moma.org/media/W1siZiIsIjY3OTM4Il0s...</td>\n",
       "      <td>NaN</td>\n",
       "      <td>NaN</td>\n",
       "      <td>NaN</td>\n",
       "      <td>33.5</td>\n",
       "      <td>NaN</td>\n",
       "      <td>NaN</td>\n",
       "      <td>21.5</td>\n",
       "      <td>NaN</td>\n",
       "      <td>NaN</td>\n",
       "    </tr>\n",
       "    <tr>\n",
       "      <th>8057</th>\n",
       "      <td>Untitled (Futurist Landscape)</td>\n",
       "      <td>Olga Rozanova</td>\n",
       "      <td>5066</td>\n",
       "      <td>(Russian, 1886–1918)</td>\n",
       "      <td>(Russian)</td>\n",
       "      <td>(1886)</td>\n",
       "      <td>(1918)</td>\n",
       "      <td>(Female)</td>\n",
       "      <td>1913</td>\n",
       "      <td>Pen and ink on paper</td>\n",
       "      <td>...</td>\n",
       "      <td>http://www.moma.org/media/W1siZiIsIjY4Nzc2Il0s...</td>\n",
       "      <td>NaN</td>\n",
       "      <td>NaN</td>\n",
       "      <td>NaN</td>\n",
       "      <td>24.3</td>\n",
       "      <td>NaN</td>\n",
       "      <td>NaN</td>\n",
       "      <td>17.7</td>\n",
       "      <td>NaN</td>\n",
       "      <td>NaN</td>\n",
       "    </tr>\n",
       "    <tr>\n",
       "      <th>13051</th>\n",
       "      <td>Study for cover of Novyi LEF (New LEF)</td>\n",
       "      <td>Aleksandr Rodchenko</td>\n",
       "      <td>4975</td>\n",
       "      <td>(Russian, 1891–1956)</td>\n",
       "      <td>(Russian)</td>\n",
       "      <td>(1891)</td>\n",
       "      <td>(1956)</td>\n",
       "      <td>(Male)</td>\n",
       "      <td>1926</td>\n",
       "      <td>Pencil and colored pencil on graph paper</td>\n",
       "      <td>...</td>\n",
       "      <td>http://www.moma.org/media/W1siZiIsIjY4MTcxIl0s...</td>\n",
       "      <td>NaN</td>\n",
       "      <td>NaN</td>\n",
       "      <td>NaN</td>\n",
       "      <td>26.9</td>\n",
       "      <td>NaN</td>\n",
       "      <td>NaN</td>\n",
       "      <td>8.0</td>\n",
       "      <td>NaN</td>\n",
       "      <td>NaN</td>\n",
       "    </tr>\n",
       "  </tbody>\n",
       "</table>\n",
       "<p>5 rows × 29 columns</p>\n",
       "</div>"
      ],
      "text/plain": [
       "                                        Title               Artist  \\\n",
       "7957             \"Society of Monkeys\" diploma      Aleksei Remizov   \n",
       "8007                                 Untitled     Kirill Zdanevich   \n",
       "8009                          Valia Zdanevich   Aleksei Kruchenykh   \n",
       "8057            Untitled (Futurist Landscape)        Olga Rozanova   \n",
       "13051  Study for cover of Novyi LEF (New LEF)  Aleksandr Rodchenko   \n",
       "\n",
       "      ConstituentID             ArtistBio Nationality BeginDate EndDate  \\\n",
       "7957          14185  (Russian, 1877–1957)          ()    (1877)  (1957)   \n",
       "8007          11875  (Russian, 1892–1969)   (Russian)    (1892)  (1969)   \n",
       "8009           3263  (Russian, 1886–1969)   (Russian)    (1886)  (1969)   \n",
       "8057           5066  (Russian, 1886–1918)   (Russian)    (1886)  (1918)   \n",
       "13051          4975  (Russian, 1891–1956)   (Russian)    (1891)  (1956)   \n",
       "\n",
       "         Gender  Date                                             Medium  ...  \\\n",
       "7957     (Male)  1922  Watercolor, ink, cut-and-pasted colored and me...  ...   \n",
       "8007     (Male)  1919                                        Pen and ink  ...   \n",
       "8009     (Male)  1923  Collage with photograph, pencil and watercolor...  ...   \n",
       "8057   (Female)  1913                               Pen and ink on paper  ...   \n",
       "13051    (Male)  1926           Pencil and colored pencil on graph paper  ...   \n",
       "\n",
       "                                            ThumbnailURL Circumference (cm)  \\\n",
       "7957   http://www.moma.org/media/W1siZiIsIjI0OTM4NiJd...                NaN   \n",
       "8007   http://www.moma.org/media/W1siZiIsIjY3ODg4Il0s...                NaN   \n",
       "8009   http://www.moma.org/media/W1siZiIsIjY3OTM4Il0s...                NaN   \n",
       "8057   http://www.moma.org/media/W1siZiIsIjY4Nzc2Il0s...                NaN   \n",
       "13051  http://www.moma.org/media/W1siZiIsIjY4MTcxIl0s...                NaN   \n",
       "\n",
       "      Depth (cm) Diameter (cm) Height (cm) Length (cm) Weight (kg)  \\\n",
       "7957         NaN           NaN        23.9         NaN         NaN   \n",
       "8007         NaN           NaN        28.4         NaN         NaN   \n",
       "8009         NaN           NaN        33.5         NaN         NaN   \n",
       "8057         NaN           NaN        24.3         NaN         NaN   \n",
       "13051        NaN           NaN        26.9         NaN         NaN   \n",
       "\n",
       "       Width (cm) Seat Height (cm) Duration (sec.)  \n",
       "7957         31.8              NaN             NaN  \n",
       "8007         26.6              NaN             NaN  \n",
       "8009         21.5              NaN             NaN  \n",
       "8057         17.7              NaN             NaN  \n",
       "13051         8.0              NaN             NaN  \n",
       "\n",
       "[5 rows x 29 columns]"
      ]
     },
     "execution_count": 43,
     "metadata": {},
     "output_type": "execute_result"
    }
   ],
   "source": [
    "artworks_filtered.head()"
   ]
  },
  {
   "cell_type": "code",
   "execution_count": 44,
   "metadata": {},
   "outputs": [],
   "source": [
    "def save_image_from_response(dest_dir, filename, response):\n",
    "    \n",
    "    path = Path.cwd() / dest_dir / filename\n",
    "    \n",
    "    print(path)\n",
    "    \n",
    "    if response.status_code == 200:\n",
    "        with open(path, 'wb') as f:\n",
    "            f.write(response.content)\n",
    "    "
   ]
  },
  {
   "cell_type": "code",
   "execution_count": 50,
   "metadata": {},
   "outputs": [
    {
     "name": "stdout",
     "output_type": "stream",
     "text": [
      "http://www.moma.org/media/W1siZiIsIjI0OTM4NiJdLFsicCIsImNvbnZlcnQiLCItcmVzaXplIDMwMHgzMDBcdTAwM2UiXV0.jpg?sha=7de0197cf5541691\n",
      "/home/michal/FIT/StolenArtRecognition/MoMA/\"Society of Monkeys\" diploma\n",
      "http://www.moma.org/media/W1siZiIsIjY3ODg4Il0sWyJwIiwiY29udmVydCIsIi1yZXNpemUgMzAweDMwMFx1MDAzZSJdXQ.jpg?sha=649e845c41e0cff5\n",
      "/home/michal/FIT/StolenArtRecognition/MoMA/Untitled\n",
      "http://www.moma.org/media/W1siZiIsIjY3OTM4Il0sWyJwIiwiY29udmVydCIsIi1yZXNpemUgMzAweDMwMFx1MDAzZSJdXQ.jpg?sha=8be92eecdd1572ab\n",
      "/home/michal/FIT/StolenArtRecognition/MoMA/Valia Zdanevich\n",
      "http://www.moma.org/media/W1siZiIsIjY4Nzc2Il0sWyJwIiwiY29udmVydCIsIi1yZXNpemUgMzAweDMwMFx1MDAzZSJdXQ.jpg?sha=8b4ef48fea7c11bd\n",
      "/home/michal/FIT/StolenArtRecognition/MoMA/Untitled (Futurist Landscape)\n",
      "http://www.moma.org/media/W1siZiIsIjY4MTcxIl0sWyJwIiwiY29udmVydCIsIi1yZXNpemUgMzAweDMwMFx1MDAzZSJdXQ.jpg?sha=37a96ae21082966a\n",
      "/home/michal/FIT/StolenArtRecognition/MoMA/Study for cover of Novyi LEF (New LEF)\n",
      "http://www.moma.org/media/W1siZiIsIjIwODU5NiJdLFsicCIsImNvbnZlcnQiLCItcmVzaXplIDMwMHgzMDBcdTAwM2UiXV0.jpg?sha=8cb1d2a9f7fa56a3\n",
      "/home/michal/FIT/StolenArtRecognition/MoMA/Dimensional Curve Interlace\n",
      "nan\n",
      "/home/michal/FIT/StolenArtRecognition/MoMA/Untitled drawing and manuscript of poem Love on the Decline\n",
      "nan\n",
      "/home/michal/FIT/StolenArtRecognition/MoMA/Untitled manuscript of verse\n",
      "http://www.moma.org/media/W1siZiIsIjI2NDgwOSJdLFsicCIsImNvbnZlcnQiLCItcmVzaXplIDMwMHgzMDBcdTAwM2UiXV0.jpg?sha=0e47dd8e658035e1\n",
      "/home/michal/FIT/StolenArtRecognition/MoMA/Maquette for cover of Agronomy\n",
      "http://www.moma.org/media/W1siZiIsIjIwODYyNiJdLFsicCIsImNvbnZlcnQiLCItcmVzaXplIDMwMHgzMDBcdTAwM2UiXV0.jpg?sha=a49a71bae80a3771\n",
      "/home/michal/FIT/StolenArtRecognition/MoMA/Untitled\n",
      "http://www.moma.org/media/W1siZiIsIjY4MTQ2Il0sWyJwIiwiY29udmVydCIsIi1yZXNpemUgMzAweDMwMFx1MDAzZSJdXQ.jpg?sha=b3203c1ccd39b19f\n",
      "/home/michal/FIT/StolenArtRecognition/MoMA/Study for cover of Rechevik (Orator)\n",
      "http://www.moma.org/media/W1siZiIsIjE2MzQyNCJdLFsicCIsImNvbnZlcnQiLCItcmVzaXplIDMwMHgzMDBcdTAwM2UiXV0.jpg?sha=4a9877c65b174cd9\n",
      "/home/michal/FIT/StolenArtRecognition/MoMA/Drawing for Mouchoir de Nuages\n",
      "http://www.moma.org/media/W1siZiIsIjIwODYzNyJdLFsicCIsImNvbnZlcnQiLCItcmVzaXplIDMwMHgzMDBcdTAwM2UiXV0.jpg?sha=982e32a5f6c05296\n",
      "/home/michal/FIT/StolenArtRecognition/MoMA/Study for cover of Sovremennaia Arkhitektura (Contemporary Architecture)\n",
      "http://www.moma.org/media/W1siZiIsIjI2NDgxOSJdLFsicCIsImNvbnZlcnQiLCItcmVzaXplIDMwMHgzMDBcdTAwM2UiXV0.jpg?sha=5e16ca78acdbeb57\n",
      "/home/michal/FIT/StolenArtRecognition/MoMA/Study for Tribun Poetov (Tribune of Poets)\n",
      "http://www.moma.org/media/W1siZiIsIjI2MjkyNCJdLFsicCIsImNvbnZlcnQiLCItcmVzaXplIDMwMHgzMDBcdTAwM2UiXV0.jpg?sha=a59f632bd7f14b9b\n",
      "/home/michal/FIT/StolenArtRecognition/MoMA/Sketch for Turnir Poetov (Tournament of Poets)\n",
      "http://www.moma.org/media/W1siZiIsIjI2NjI4NCJdLFsicCIsImNvbnZlcnQiLCItcmVzaXplIDMwMHgzMDBcdTAwM2UiXV0.jpg?sha=9a2ea833e1be3178\n",
      "/home/michal/FIT/StolenArtRecognition/MoMA/Manuscript of Rekord nezhnosti: Zhitie Il'ia Zdanevicha (Record of Tenderness: Hagiography of Il'ia Zdanevich)\n"
     ]
    }
   ],
   "source": [
    "downloaded_art_dir = \"MoMA\"\n",
    "test = 0\n",
    "\n",
    "for index, row in artworks_filtered.iterrows():\n",
    "    \n",
    "    art_title = row.Title\n",
    "    response = requests.get(row.URL)\n",
    "    print(row.ThumbnailURL)\n",
    "    save_image_from_response(downloaded_art_dir, art_title, response)\n",
    "    \n",
    "    test = test + 1\n",
    "    if test > 15:\n",
    "        break\n",
    "\n",
    "    "
   ]
  },
  {
   "cell_type": "code",
   "execution_count": null,
   "metadata": {},
   "outputs": [],
   "source": []
  },
  {
   "cell_type": "code",
   "execution_count": null,
   "metadata": {},
   "outputs": [],
   "source": []
  }
 ],
 "metadata": {
  "kernelspec": {
   "display_name": "SAR",
   "language": "python",
   "name": "sar"
  },
  "language_info": {
   "codemirror_mode": {
    "name": "ipython",
    "version": 3
   },
   "file_extension": ".py",
   "mimetype": "text/x-python",
   "name": "python",
   "nbconvert_exporter": "python",
   "pygments_lexer": "ipython3",
   "version": "3.8.3"
  }
 },
 "nbformat": 4,
 "nbformat_minor": 4
}
