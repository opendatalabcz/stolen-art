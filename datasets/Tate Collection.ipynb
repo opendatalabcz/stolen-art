{
 "cells": [
  {
   "cell_type": "code",
   "execution_count": 1,
   "metadata": {},
   "outputs": [],
   "source": [
    "import pandas as pd\n",
    "import requests\n",
    "from pathlib import Path\n",
    "import urllib3\n",
    "urllib3.disable_warnings(urllib3.exceptions.InsecureRequestWarning)"
   ]
  },
  {
   "cell_type": "markdown",
   "metadata": {},
   "source": [
    "## Load csv with all the information about the arts"
   ]
  },
  {
   "cell_type": "code",
   "execution_count": 2,
   "metadata": {},
   "outputs": [
    {
     "name": "stderr",
     "output_type": "stream",
     "text": [
      "/home/michal/miniconda3/envs/SAR/lib/python3.8/site-packages/IPython/core/interactiveshell.py:3155: DtypeWarning: Columns (9,13) have mixed types.Specify dtype option on import or set low_memory=False.\n",
      "  has_raised = await self.run_ast_nodes(code_ast.body, cell_name,\n"
     ]
    },
    {
     "data": {
      "text/plain": [
       "Index(['id', 'accession_number', 'artist', 'artistRole', 'artistId', 'title',\n",
       "       'dateText', 'medium', 'creditLine', 'year', 'acquisitionYear',\n",
       "       'dimensions', 'width', 'height', 'depth', 'units', 'inscription',\n",
       "       'thumbnailCopyright', 'thumbnailUrl', 'url'],\n",
       "      dtype='object')"
      ]
     },
     "execution_count": 2,
     "metadata": {},
     "output_type": "execute_result"
    }
   ],
   "source": [
    "artworks_csv = pd.read_csv(\"Tate_artwork_data.csv\")\n",
    "artworks_csv.columns\n",
    "\n"
   ]
  },
  {
   "cell_type": "code",
   "execution_count": 3,
   "metadata": {},
   "outputs": [],
   "source": [
    "artworks_csv = artworks_csv[artworks_csv.thumbnailUrl.notnull()]"
   ]
  },
  {
   "cell_type": "markdown",
   "metadata": {},
   "source": [
    "## Display the art categories and picking the right ones"
   ]
  },
  {
   "cell_type": "code",
   "execution_count": 4,
   "metadata": {},
   "outputs": [
    {
     "data": {
      "text/plain": [
       "array(['Watercolour, ink, chalk and graphite on paper. Verso: graphite on paper',\n",
       "       'Graphite on paper', 'Graphite on paper. Verso: graphite on paper',\n",
       "       ...,\n",
       "       'Film, 16 mm, 2 projections, black and white, and sound (stereo) and smoke machine',\n",
       "       'Wood, Perspex, plaster, wire, tampons and human blood',\n",
       "       'Wood, Perspex, clock case, tampons and human blood'], dtype=object)"
      ]
     },
     "execution_count": 4,
     "metadata": {},
     "output_type": "execute_result"
    }
   ],
   "source": [
    "artworks_csv.medium.unique()"
   ]
  },
  {
   "cell_type": "code",
   "execution_count": 5,
   "metadata": {},
   "outputs": [],
   "source": [
    "wanted_mediums = ['Screenprint on paper']"
   ]
  },
  {
   "cell_type": "code",
   "execution_count": 6,
   "metadata": {},
   "outputs": [
    {
     "data": {
      "text/plain": [
       "array(['Screenprint on paper'], dtype=object)"
      ]
     },
     "execution_count": 6,
     "metadata": {},
     "output_type": "execute_result"
    }
   ],
   "source": [
    "artworks_filtered = artworks_csv.loc[artworks_csv.medium.isin(wanted_mediums)]\n",
    "artworks_filtered.medium.unique()"
   ]
  },
  {
   "cell_type": "markdown",
   "metadata": {},
   "source": [
    "## Downloading the images"
   ]
  },
  {
   "cell_type": "code",
   "execution_count": 7,
   "metadata": {},
   "outputs": [
    {
     "data": {
      "text/plain": [
       "2564"
      ]
     },
     "execution_count": 7,
     "metadata": {},
     "output_type": "execute_result"
    }
   ],
   "source": [
    "artworks_filtered.head()\n",
    "len(artworks_filtered)"
   ]
  },
  {
   "cell_type": "code",
   "execution_count": 8,
   "metadata": {},
   "outputs": [],
   "source": [
    "def save_image_from_response(dest_dir, filename, response):\n",
    "    \n",
    "    filename = filename.replace(\"/\",\"-\")\n",
    "    \n",
    "    path = Path.cwd() / dest_dir / filename\n",
    "        \n",
    "    if response.status_code == 200:\n",
    "        with open(path, 'wb') as f:\n",
    "            f.write(response.content)\n",
    "\n",
    "            "
   ]
  },
  {
   "cell_type": "code",
   "execution_count": 9,
   "metadata": {},
   "outputs": [],
   "source": [
    "def download_images(artworks, dir_name, sample_size = -1, generic_name = False):\n",
    "\n",
    "    # create the directory where the downloaded images will be stored\n",
    "    dir_path = Path.cwd() / dir_name\n",
    "    dir_path.mkdir(parents=True, exist_ok=True)\n",
    "    \n",
    "    # take N random rows from the table\n",
    "    if sample_size != -1:\n",
    "        artworks_csv_sample = artworks_filtered.sample(sample_size)\n",
    "    else:\n",
    "        artworks_csv_sample = artworks_filtered\n",
    "    counter = 0\n",
    "    for index, row in artworks_csv_sample.iterrows():\n",
    "        \n",
    "        art_title = row.title\n",
    "        filename = art_title + \".jpg\" if not generic_name else \"image_\" + str(index) + \".jpg\"\n",
    "\n",
    "        # For full resolution I need to modify the URL a bit, it follows a strict pattern\n",
    "        imageURL = row.thumbnailUrl\n",
    "        imageURL = imageURL.replace(\"_8.jpg\", \"_10.jpg\")\n",
    "\n",
    "        response = requests.get(imageURL, verify = False)\n",
    "        \n",
    "        if counter % 100 == 0:\n",
    "            print(f\"Still downloading...\")\n",
    "            print(f\"Images remaining: {len(artworks_csv_sample)-counter}\")\n",
    "        \n",
    "        save_image_from_response(dir_name, filename, response)\n",
    "        counter += 1\n",
    "    \n",
    "    print(\"Download finished.\")"
   ]
  },
  {
   "cell_type": "code",
   "execution_count": null,
   "metadata": {},
   "outputs": [
    {
     "name": "stdout",
     "output_type": "stream",
     "text": [
      "Still downloading...\n",
      "Images remaining: 2564\n",
      "Still downloading...\n",
      "Images remaining: 2464\n",
      "Still downloading...\n",
      "Images remaining: 2364\n",
      "Still downloading...\n",
      "Images remaining: 2264\n",
      "Still downloading...\n",
      "Images remaining: 2164\n",
      "Still downloading...\n",
      "Images remaining: 2064\n",
      "Still downloading...\n",
      "Images remaining: 1964\n",
      "Still downloading...\n",
      "Images remaining: 1864\n",
      "Still downloading...\n",
      "Images remaining: 1764\n",
      "Still downloading...\n",
      "Images remaining: 1664\n",
      "Still downloading...\n",
      "Images remaining: 1564\n",
      "Still downloading...\n",
      "Images remaining: 1464\n",
      "Still downloading...\n",
      "Images remaining: 1364\n",
      "Still downloading...\n",
      "Images remaining: 1264\n",
      "Still downloading...\n",
      "Images remaining: 1164\n",
      "Still downloading...\n",
      "Images remaining: 1064\n",
      "Still downloading...\n",
      "Images remaining: 964\n",
      "Still downloading...\n",
      "Images remaining: 864\n",
      "Still downloading...\n",
      "Images remaining: 764\n",
      "Still downloading...\n",
      "Images remaining: 664\n",
      "Still downloading...\n",
      "Images remaining: 564\n",
      "Still downloading...\n",
      "Images remaining: 464\n",
      "Still downloading...\n",
      "Images remaining: 364\n",
      "Still downloading...\n",
      "Images remaining: 264\n",
      "Still downloading...\n",
      "Images remaining: 164\n"
     ]
    }
   ],
   "source": [
    "download_to = \"Tate-all-screenprint-paper\"\n",
    "download_images(artworks_filtered, download_to, generic_name = True)\n"
   ]
  },
  {
   "cell_type": "code",
   "execution_count": null,
   "metadata": {},
   "outputs": [],
   "source": [
    "pd.options.display.max_rows = 4000\n",
    "artworks_csv['medium'].value_counts()"
   ]
  },
  {
   "cell_type": "code",
   "execution_count": null,
   "metadata": {},
   "outputs": [],
   "source": []
  }
 ],
 "metadata": {
  "kernelspec": {
   "display_name": "SAR",
   "language": "python",
   "name": "sar"
  },
  "language_info": {
   "codemirror_mode": {
    "name": "ipython",
    "version": 3
   },
   "file_extension": ".py",
   "mimetype": "text/x-python",
   "name": "python",
   "nbconvert_exporter": "python",
   "pygments_lexer": "ipython3",
   "version": "3.8.2"
  }
 },
 "nbformat": 4,
 "nbformat_minor": 4
}
