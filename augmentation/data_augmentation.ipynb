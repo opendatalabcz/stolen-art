{
 "cells": [
  {
   "cell_type": "code",
   "execution_count": 1,
   "metadata": {},
   "outputs": [],
   "source": [
    "import os\n",
    "import PIL\n",
    "import PIL.Image\n",
    "import pathlib\n",
    "import cv2\n",
    "import matplotlib.pyplot as plt\n",
    "import numpy as np\n",
    "%matplotlib inline\n",
    "\n",
    "\n",
    "import imgaug as ia\n",
    "from imgaug import augmenters as iaa\n",
    "\n",
    "from pathlib import Path\n",
    "\n",
    "import keras\n",
    "from keras.preprocessing.image import ImageDataGenerator, array_to_img, img_to_array, load_img\n"
   ]
  },
  {
   "cell_type": "code",
   "execution_count": 2,
   "metadata": {},
   "outputs": [],
   "source": [
    " def downscale_images(images, scale=30):\n",
    "    \"\"\"\n",
    "    Downscales images in an array.\n",
    "    Args:\n",
    "        images: array of images to be downscaled \n",
    "        scale: \n",
    "\n",
    "    Returns: array of downscaled down images\n",
    "\n",
    "    \"\"\"\n",
    "    resized = []\n",
    "    \n",
    "    for img in images:\n",
    "        \n",
    "        width = int(img.shape[1] * scale / 100)\n",
    "        height = int(img.shape[0] * scale / 100)\n",
    "        dim = (width, height)\n",
    "\n",
    "        resized.append(cv2.resize(img, dim, interpolation = cv2.INTER_AREA))\n",
    "    \n",
    "    return resized\n"
   ]
  },
  {
   "cell_type": "code",
   "execution_count": 3,
   "metadata": {},
   "outputs": [],
   "source": [
    "def bgr_to_rgb(images):\n",
    "    return [cv2.cvtColor(i, cv2.COLOR_BGR2RGB) for i in images ]"
   ]
  },
  {
   "cell_type": "code",
   "execution_count": 4,
   "metadata": {},
   "outputs": [],
   "source": [
    "def load_paintings(path):\n",
    "    \n",
    "    # directory with the images\n",
    "    data_dir = pathlib.Path(path)\n",
    "    \n",
    "    \n",
    "    # how many images are in the directory\n",
    "    image_count = len(list(data_dir.glob('*')))\n",
    "    print(f\"Number of images found in {path}: {image_count}\")\n",
    "\n",
    "\n",
    "    paintings_path = list(data_dir.glob('*'))\n",
    "    paintings_path = [str(path) for path in paintings_path]\n",
    "    \n",
    "    paintings_filenames = [path.split('/')[-1] for path in paintings_path]\n",
    "    \n",
    "    # loading images, in BGR\n",
    "    paintings = [cv2.imread(painting_path) for painting_path in paintings_path]\n",
    "    paintings = bgr_to_rgb(paintings)\n",
    "        \n",
    "    return paintings_filenames, paintings\n"
   ]
  },
  {
   "cell_type": "code",
   "execution_count": null,
   "metadata": {},
   "outputs": [
    {
     "name": "stdout",
     "output_type": "stream",
     "text": [
      "Number of images found in ../datasets/Tate-all-oil-canvas/: 3009\n"
     ]
    }
   ],
   "source": [
    "# the directory with paintings to augment\n",
    "to_augment_dir = \"../datasets/Tate-all-oil-canvas/\"\n",
    "\n",
    "# load the paintings, including their filenames (new filename is prefix+old filename)\n",
    "paintings_filenames, paintings = load_paintings(to_augment_dir)"
   ]
  },
  {
   "cell_type": "markdown",
   "metadata": {},
   "source": [
    "# Data Augmentation"
   ]
  },
  {
   "cell_type": "markdown",
   "metadata": {},
   "source": [
    "## Imgaug"
   ]
  },
  {
   "cell_type": "code",
   "execution_count": null,
   "metadata": {},
   "outputs": [],
   "source": [
    "def compare_orig_aug(orig, aug, limit = 15):\n",
    "    \n",
    "    for i in range(0, len(orig)): \n",
    "        ia.imshow(np.hstack([orig[i], aug[i]]))\n",
    "        if i >= limit:\n",
    "            break"
   ]
  },
  {
   "cell_type": "code",
   "execution_count": null,
   "metadata": {},
   "outputs": [],
   "source": [
    "def get_augmented(images, augmenters_list):\n",
    "    \"\"\"\n",
    "    Augments each image in an input array once. \n",
    "    \n",
    "    Args: \n",
    "        images: images to be augmented\n",
    "\n",
    "    Returns: an array of augmented images, size of an output array = size of input array\n",
    "\n",
    "    \"\"\"\n",
    "    \n",
    "    seq = iaa.Sequential(augmenters_list, random_order = True)\n",
    "    \n",
    "    augmented = seq(images=images)\n",
    "        \n",
    "    return augmented\n",
    "    \n"
   ]
  },
  {
   "cell_type": "markdown",
   "metadata": {},
   "source": [
    "### Augmenters list\n",
    "This list defines the augmenters which will be used in a sequential/random order."
   ]
  },
  {
   "cell_type": "code",
   "execution_count": null,
   "metadata": {},
   "outputs": [],
   "source": [
    "# specify the augmentors to be used\n",
    "augmenters_list = [\n",
    "    \n",
    "      \n",
    "    iaa.GaussianBlur(sigma=(0, 3.0)), # blur images with a sigma of 0 to 3.0\n",
    "   \n",
    "    iaa.Sometimes(0.25,\n",
    "                iaa.JpegCompression(compression=(0, 30)) ),# degrade the quality of images by JPEG-compressing them.  \n",
    "        \n",
    "    iaa.Affine(\n",
    "        #scale={\"x\": (0.8, 1.2), \"y\": (0.8, 1.2)}, # zooming\n",
    "        translate_percent={\"x\": (-0.05, 0.05), \"y\": (-0.05, 0.05)}, # shifting on axis\n",
    "        rotate=(-20, 20), # rotating\n",
    "        ),\n",
    "\n",
    "    iaa.Crop(px=(0, 16)), # crop images from each side by 0 to 16px (randomly chosen)\n",
    "    iaa.LinearContrast((0.75, 1.5)),\n",
    "        \n",
    "    iaa.Sometimes(0.25,\n",
    "        iaa.Cutout(fill_mode=\"gaussian\", fill_per_channel=True) ), # cutout a square, fill it with noise\n",
    "                                                                   # algo should not rely on just one area of keypoints\n",
    "        \n",
    "        \n",
    "    ]"
   ]
  },
  {
   "cell_type": "code",
   "execution_count": null,
   "metadata": {},
   "outputs": [],
   "source": [
    "# augment the images\n",
    "augmented = get_augmented(paintings, augmenters_list)"
   ]
  },
  {
   "cell_type": "code",
   "execution_count": null,
   "metadata": {},
   "outputs": [],
   "source": [
    "#compare_orig_aug(paintings, augmented)"
   ]
  },
  {
   "cell_type": "code",
   "execution_count": null,
   "metadata": {},
   "outputs": [],
   "source": [
    "def save_images(dest_dir, paintings_filenames, images):\n",
    "    \n",
    "    # create the directory where the augmented images will be stored\n",
    "    dir_path = Path.cwd() / dest_dir\n",
    "    dir_path.mkdir(parents=True, exist_ok=True)\n",
    "    \n",
    "    for filename, image in zip(paintings_filenames, images):\n",
    "        \n",
    "        filename = \"aug_\" + filename\n",
    "        \n",
    "        path = Path.cwd() / dest_dir / filename\n",
    "        path = str(path)\n",
    "        \n",
    "        im_bgr = cv2.cvtColor(image, cv2.COLOR_RGB2BGR)\n",
    "        cv2.imwrite(path, im_bgr)\n",
    "        \n",
    "    print(\"Saving finished.\")\n",
    "\n",
    "            "
   ]
  },
  {
   "cell_type": "code",
   "execution_count": null,
   "metadata": {},
   "outputs": [],
   "source": [
    "# make a new folder in this directory with \"original_name\"+ \"_aug\" postfix\n",
    "aug_dir = to_augment_dir.split('/')[-2] + \"_aug/\"\n",
    "\n",
    "# save the augmented paintings in the folder\n",
    "save_images(aug_dir, paintings_filenames, augmented)\n",
    "print(aug_dir)"
   ]
  },
  {
   "cell_type": "code",
   "execution_count": null,
   "metadata": {},
   "outputs": [],
   "source": []
  }
 ],
 "metadata": {
  "kernelspec": {
   "display_name": "SAR",
   "language": "python",
   "name": "sar"
  },
  "language_info": {
   "codemirror_mode": {
    "name": "ipython",
    "version": 3
   },
   "file_extension": ".py",
   "mimetype": "text/x-python",
   "name": "python",
   "nbconvert_exporter": "python",
   "pygments_lexer": "ipython3",
   "version": "3.8.2"
  },
  "pycharm": {
   "stem_cell": {
    "cell_type": "raw",
    "metadata": {
     "collapsed": false
    },
    "source": []
   }
  }
 },
 "nbformat": 4,
 "nbformat_minor": 4
}
